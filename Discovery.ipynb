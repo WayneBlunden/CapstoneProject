{
 "cells": [
  {
   "cell_type": "markdown",
   "metadata": {},
   "source": [
    "For the proposed analysis questions we need to populate the below datapoints from the raw data provided. \n",
    "\n",
    "| Needed Datapoints |\n",
    "|---|\n",
    "| Accident ID |\n",
    "|Date|\n",
    "|Time|\n",
    "|Day/Night|\n",
    "|State|\n",
    "\n",
    "The point of this discovery is to determine what can be pulled from the raw dataset to produce the datapoints listed in the table above. We will be looking at the format the data is currently in as well as checking for null values in the rows."
   ]
  },
  {
   "cell_type": "code",
   "execution_count": 12,
   "metadata": {},
   "outputs": [],
   "source": [
    "# Import needed modules\n",
    "import pandas as pd\n",
    "\n",
    "# Load raw accident excel file into variable 'accidents'\n",
    "accidents = pd.read_csv(r'E:\\Code_You\\OriginalCapstoneData\\US_Accidents_March23.csv')"
   ]
  },
  {
   "cell_type": "markdown",
   "metadata": {},
   "source": [
    "### Column Name Review\n",
    "Looking through dataframe info (coding cell below) we can identify numerous column names that are not needed to visualize the proposed data analysis. Columns of interest at first glance to be used: Accident ID, Start_Time, Sunrise_Sunset, and State.\n"
   ]
  },
  {
   "cell_type": "code",
   "execution_count": 13,
   "metadata": {},
   "outputs": [
    {
     "name": "stdout",
     "output_type": "stream",
     "text": [
      "<class 'pandas.core.frame.DataFrame'>\n",
      "RangeIndex: 7728394 entries, 0 to 7728393\n",
      "Data columns (total 46 columns):\n",
      " #   Column                 Dtype  \n",
      "---  ------                 -----  \n",
      " 0   ID                     object \n",
      " 1   Source                 object \n",
      " 2   Severity               int64  \n",
      " 3   Start_Time             object \n",
      " 4   End_Time               object \n",
      " 5   Start_Lat              float64\n",
      " 6   Start_Lng              float64\n",
      " 7   End_Lat                float64\n",
      " 8   End_Lng                float64\n",
      " 9   Distance(mi)           float64\n",
      " 10  Description            object \n",
      " 11  Street                 object \n",
      " 12  City                   object \n",
      " 13  County                 object \n",
      " 14  State                  object \n",
      " 15  Zipcode                object \n",
      " 16  Country                object \n",
      " 17  Timezone               object \n",
      " 18  Airport_Code           object \n",
      " 19  Weather_Timestamp      object \n",
      " 20  Temperature(F)         float64\n",
      " 21  Wind_Chill(F)          float64\n",
      " 22  Humidity(%)            float64\n",
      " 23  Pressure(in)           float64\n",
      " 24  Visibility(mi)         float64\n",
      " 25  Wind_Direction         object \n",
      " 26  Wind_Speed(mph)        float64\n",
      " 27  Precipitation(in)      float64\n",
      " 28  Weather_Condition      object \n",
      " 29  Amenity                bool   \n",
      " 30  Bump                   bool   \n",
      " 31  Crossing               bool   \n",
      " 32  Give_Way               bool   \n",
      " 33  Junction               bool   \n",
      " 34  No_Exit                bool   \n",
      " 35  Railway                bool   \n",
      " 36  Roundabout             bool   \n",
      " 37  Station                bool   \n",
      " 38  Stop                   bool   \n",
      " 39  Traffic_Calming        bool   \n",
      " 40  Traffic_Signal         bool   \n",
      " 41  Turning_Loop           bool   \n",
      " 42  Sunrise_Sunset         object \n",
      " 43  Civil_Twilight         object \n",
      " 44  Nautical_Twilight      object \n",
      " 45  Astronomical_Twilight  object \n",
      "dtypes: bool(13), float64(12), int64(1), object(20)\n",
      "memory usage: 2.0+ GB\n"
     ]
    }
   ],
   "source": [
    "accidents.info()"
   ]
  },
  {
   "cell_type": "markdown",
   "metadata": {},
   "source": [
    "### Reviewing 'ID' Column\n",
    "The below code cells are looking at the data in the colum 'ID'. This column displays a designation for the row entry.\n",
    "- There are a total of 7728394 rows in the column\n",
    "- Data populates as A-'designation'\n",
    "- Total rows with non-null values is 7728394 so no need to drop null values\n"
   ]
  },
  {
   "cell_type": "code",
   "execution_count": 34,
   "metadata": {},
   "outputs": [
    {
     "data": {
      "text/plain": [
       "0                A-1\n",
       "1                A-2\n",
       "2                A-3\n",
       "3                A-4\n",
       "4                A-5\n",
       "             ...    \n",
       "7728389    A-7777757\n",
       "7728390    A-7777758\n",
       "7728391    A-7777759\n",
       "7728392    A-7777760\n",
       "7728393    A-7777761\n",
       "Name: ID, Length: 7728394, dtype: object"
      ]
     },
     "execution_count": 34,
     "metadata": {},
     "output_type": "execute_result"
    }
   ],
   "source": [
    "accidents['ID']"
   ]
  },
  {
   "cell_type": "code",
   "execution_count": 28,
   "metadata": {},
   "outputs": [
    {
     "name": "stdout",
     "output_type": "stream",
     "text": [
      "<class 'pandas.core.series.Series'>\n",
      "RangeIndex: 7728394 entries, 0 to 7728393\n",
      "Series name: ID\n",
      "Non-Null Count    Dtype \n",
      "--------------    ----- \n",
      "7728394 non-null  object\n",
      "dtypes: object(1)\n",
      "memory usage: 59.0+ MB\n"
     ]
    }
   ],
   "source": [
    "accidents['ID'].info()"
   ]
  },
  {
   "cell_type": "markdown",
   "metadata": {},
   "source": [
    "### Reviewing 'Start_Time' Column\n",
    "The below code cells are looking at the data in the column 'Start_Time'. This column displays the date and start time of the accident. \n",
    "- There are a total of 7,728,394 rows in the column\n",
    "- The date populates in yyyy-mm-dd format and the time is in hh:mm:ss. \n",
    "- Total rows with non-null values 7,728,394 so we won't need to drop any rows.\n"
   ]
  },
  {
   "cell_type": "code",
   "execution_count": 26,
   "metadata": {},
   "outputs": [
    {
     "data": {
      "text/plain": [
       "0          2016-02-08 05:46:00\n",
       "1          2016-02-08 06:07:59\n",
       "2          2016-02-08 06:49:27\n",
       "3          2016-02-08 07:23:34\n",
       "4          2016-02-08 07:39:07\n",
       "                  ...         \n",
       "7728389    2019-08-23 18:03:25\n",
       "7728390    2019-08-23 19:11:30\n",
       "7728391    2019-08-23 19:00:21\n",
       "7728392    2019-08-23 19:00:21\n",
       "7728393    2019-08-23 18:52:06\n",
       "Name: Start_Time, Length: 7728394, dtype: object"
      ]
     },
     "execution_count": 26,
     "metadata": {},
     "output_type": "execute_result"
    }
   ],
   "source": [
    "accidents['Start_Time']"
   ]
  },
  {
   "cell_type": "code",
   "execution_count": 24,
   "metadata": {},
   "outputs": [
    {
     "name": "stdout",
     "output_type": "stream",
     "text": [
      "<class 'pandas.core.series.Series'>\n",
      "RangeIndex: 7728394 entries, 0 to 7728393\n",
      "Series name: Start_Time\n",
      "Non-Null Count    Dtype \n",
      "--------------    ----- \n",
      "7728394 non-null  object\n",
      "dtypes: object(1)\n",
      "memory usage: 59.0+ MB\n"
     ]
    }
   ],
   "source": [
    "accidents['Start_Time'].info()"
   ]
  },
  {
   "cell_type": "markdown",
   "metadata": {},
   "source": [
    "### Reviewing the 'Sunrise_Sunset' column\n",
    "The below code cells are looking at the data in the column 'Sunrise_Sunset'. This column displays whether the accident occurred during the day or night, determined by Sunrise and Sunset time. \n",
    "- There are a total of 7,728,394 rows in the column\n",
    "- The date populates a single word of either Day or Night. \n",
    "- Total rows with non-null values 7,728,394 so we won't need to drop any rows."
   ]
  },
  {
   "cell_type": "code",
   "execution_count": 29,
   "metadata": {},
   "outputs": [
    {
     "data": {
      "text/plain": [
       "0          Night\n",
       "1          Night\n",
       "2          Night\n",
       "3          Night\n",
       "4            Day\n",
       "           ...  \n",
       "7728389      Day\n",
       "7728390      Day\n",
       "7728391      Day\n",
       "7728392      Day\n",
       "7728393      Day\n",
       "Name: Sunrise_Sunset, Length: 7728394, dtype: object"
      ]
     },
     "execution_count": 29,
     "metadata": {},
     "output_type": "execute_result"
    }
   ],
   "source": [
    "accidents['Sunrise_Sunset']"
   ]
  },
  {
   "cell_type": "code",
   "execution_count": 30,
   "metadata": {},
   "outputs": [
    {
     "name": "stdout",
     "output_type": "stream",
     "text": [
      "<class 'pandas.core.series.Series'>\n",
      "RangeIndex: 7728394 entries, 0 to 7728393\n",
      "Series name: Sunrise_Sunset\n",
      "Non-Null Count    Dtype \n",
      "--------------    ----- \n",
      "7705148 non-null  object\n",
      "dtypes: object(1)\n",
      "memory usage: 59.0+ MB\n"
     ]
    }
   ],
   "source": [
    "accidents['Sunrise_Sunset'].info()"
   ]
  },
  {
   "cell_type": "markdown",
   "metadata": {},
   "source": [
    "### Reviewing the 'State' column\n",
    "The below code cells are looking at the data in the column 'State'. This column displays the state the accident occurred in. \n",
    "- There are a total of 7,728,394 rows in the column\n",
    "- The date populates an abbreviated entry of the name of the state. \n",
    "- Total rows with non-null values 7,728,394 so we won't need to drop any rows."
   ]
  },
  {
   "cell_type": "code",
   "execution_count": 32,
   "metadata": {},
   "outputs": [
    {
     "data": {
      "text/plain": [
       "0          OH\n",
       "1          OH\n",
       "2          OH\n",
       "3          OH\n",
       "4          OH\n",
       "           ..\n",
       "7728389    CA\n",
       "7728390    CA\n",
       "7728391    CA\n",
       "7728392    CA\n",
       "7728393    CA\n",
       "Name: State, Length: 7728394, dtype: object"
      ]
     },
     "execution_count": 32,
     "metadata": {},
     "output_type": "execute_result"
    }
   ],
   "source": [
    "accidents['State']"
   ]
  },
  {
   "cell_type": "code",
   "execution_count": 33,
   "metadata": {},
   "outputs": [
    {
     "name": "stdout",
     "output_type": "stream",
     "text": [
      "<class 'pandas.core.series.Series'>\n",
      "RangeIndex: 7728394 entries, 0 to 7728393\n",
      "Series name: State\n",
      "Non-Null Count    Dtype \n",
      "--------------    ----- \n",
      "7728394 non-null  object\n",
      "dtypes: object(1)\n",
      "memory usage: 59.0+ MB\n"
     ]
    }
   ],
   "source": [
    "accidents['State'].info()"
   ]
  },
  {
   "cell_type": "markdown",
   "metadata": {},
   "source": [
    "### Final Data Discovery Table\n",
    "Below is the final data discovery table pulled from the discovery process.\n",
    "\n",
    "The following table lists needed datapoints and potential columns that data can be pulled from.\n",
    "|Needed Datapoint | Raw column to use | Notes | Raw Datatype |\n",
    "|---|---|---|---|\n",
    "| Accident ID | ID | Numeric identifier for accident | str |\n",
    "|Date| Start_Time | Start_Time has date and time of accident (yyyy-mm-dd hh:mm:ss) | str |\n",
    "|Time| Start_TIme | Start_Time has date and time of accident (Should these columns be combined or kept separate?) | str |\n",
    "|Day/Night| Sunrise_Sunset | Lists whether it was 'Day' or 'Night' based off of sunrise/sunset | str |\n",
    "|State| State | This is the name of a state | str |"
   ]
  }
 ],
 "metadata": {
  "kernelspec": {
   "display_name": "Python 3",
   "language": "python",
   "name": "python3"
  },
  "language_info": {
   "codemirror_mode": {
    "name": "ipython",
    "version": 3
   },
   "file_extension": ".py",
   "mimetype": "text/x-python",
   "name": "python",
   "nbconvert_exporter": "python",
   "pygments_lexer": "ipython3",
   "version": "3.11.9"
  }
 },
 "nbformat": 4,
 "nbformat_minor": 2
}
