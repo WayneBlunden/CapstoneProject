{
 "cells": [
  {
   "cell_type": "markdown",
   "metadata": {},
   "source": [
    "For the proposed analysis questions we need to populate the below datapoints from the raw data provided. \n",
    "\n",
    "| Needed Datapoints |\n",
    "|---|\n",
    "| Accident ID |\n",
    "|Date|\n",
    "|Time|\n",
    "|Day/Night|\n",
    "|State|\n",
    "\n",
    "The point of this discovery is to determine what can be pulled from the raw dataset (US_Accidents_March23) to produce the datapoints listed in the table above. We will be looking at the format the data is currently in as well as checking for null values in the rows."
   ]
  },
  {
   "cell_type": "code",
   "execution_count": 7,
   "metadata": {},
   "outputs": [],
   "source": [
    "# Import needed modules\n",
    "import pandas as pd\n",
    "\n",
    "# Load raw accident excel file into variable 'accidents'\n",
    "accidents = pd.read_csv(r'Data\\Raw\\US_Accidents_March23.csv')"
   ]
  },
  {
   "cell_type": "markdown",
   "metadata": {},
   "source": [
    "### Column Name Review\n",
    "Looking through dataframe info (coding cell below) we can identify numerous column names that are not needed to visualize the proposed data analysis. Columns of interest at first glance to be used: Accident ID, Start_Time, Sunrise_Sunset, and State.\n"
   ]
  },
  {
   "cell_type": "code",
   "execution_count": null,
   "metadata": {},
   "outputs": [
    {
     "name": "stdout",
     "output_type": "stream",
     "text": [
      "<class 'pandas.core.frame.DataFrame'>\n",
      "RangeIndex: 7728394 entries, 0 to 7728393\n",
      "Data columns (total 46 columns):\n",
      " #   Column                 Dtype  \n",
      "---  ------                 -----  \n",
      " 0   ID                     object \n",
      " 1   Source                 object \n",
      " 2   Severity               int64  \n",
      " 3   Start_Time             object \n",
      " 4   End_Time               object \n",
      " 5   Start_Lat              float64\n",
      " 6   Start_Lng              float64\n",
      " 7   End_Lat                float64\n",
      " 8   End_Lng                float64\n",
      " 9   Distance(mi)           float64\n",
      " 10  Description            object \n",
      " 11  Street                 object \n",
      " 12  City                   object \n",
      " 13  County                 object \n",
      " 14  State                  object \n",
      " 15  Zipcode                object \n",
      " 16  Country                object \n",
      " 17  Timezone               object \n",
      " 18  Airport_Code           object \n",
      " 19  Weather_Timestamp      object \n",
      " 20  Temperature(F)         float64\n",
      " 21  Wind_Chill(F)          float64\n",
      " 22  Humidity(%)            float64\n",
      " 23  Pressure(in)           float64\n",
      " 24  Visibility(mi)         float64\n",
      " 25  Wind_Direction         object \n",
      " 26  Wind_Speed(mph)        float64\n",
      " 27  Precipitation(in)      float64\n",
      " 28  Weather_Condition      object \n",
      " 29  Amenity                bool   \n",
      " 30  Bump                   bool   \n",
      " 31  Crossing               bool   \n",
      " 32  Give_Way               bool   \n",
      " 33  Junction               bool   \n",
      " 34  No_Exit                bool   \n",
      " 35  Railway                bool   \n",
      " 36  Roundabout             bool   \n",
      " 37  Station                bool   \n",
      " 38  Stop                   bool   \n",
      " 39  Traffic_Calming        bool   \n",
      " 40  Traffic_Signal         bool   \n",
      " 41  Turning_Loop           bool   \n",
      " 42  Sunrise_Sunset         object \n",
      " 43  Civil_Twilight         object \n",
      " 44  Nautical_Twilight      object \n",
      " 45  Astronomical_Twilight  object \n",
      "dtypes: bool(13), float64(12), int64(1), object(20)\n",
      "memory usage: 2.0+ GB\n"
     ]
    }
   ],
   "source": [
    "# Checking column designations\n",
    "accidents.info()"
   ]
  },
  {
   "cell_type": "markdown",
   "metadata": {},
   "source": [
    "### Reviewing 'ID' Column\n",
    "The below code cells are looking at the data in the colum 'ID'. This column displays a designation for the row entry.\n",
    "- There are a total of 7728394 rows in the column\n",
    "- Data populates as A-'designation'\n",
    "- Total rows with non-null values is 7728394 so no need to drop null values\n"
   ]
  },
  {
   "cell_type": "code",
   "execution_count": null,
   "metadata": {},
   "outputs": [
    {
     "data": {
      "text/plain": [
       "0                A-1\n",
       "1                A-2\n",
       "2                A-3\n",
       "3                A-4\n",
       "4                A-5\n",
       "             ...    \n",
       "7728389    A-7777757\n",
       "7728390    A-7777758\n",
       "7728391    A-7777759\n",
       "7728392    A-7777760\n",
       "7728393    A-7777761\n",
       "Name: ID, Length: 7728394, dtype: object"
      ]
     },
     "execution_count": 13,
     "metadata": {},
     "output_type": "execute_result"
    }
   ],
   "source": [
    "# Checking format of data\n",
    "accidents['ID'] "
   ]
  },
  {
   "cell_type": "code",
   "execution_count": null,
   "metadata": {},
   "outputs": [
    {
     "name": "stdout",
     "output_type": "stream",
     "text": [
      "<class 'pandas.core.series.Series'>\n",
      "RangeIndex: 7728394 entries, 0 to 7728393\n",
      "Series name: ID\n",
      "Non-Null Count    Dtype \n",
      "--------------    ----- \n",
      "7728394 non-null  object\n",
      "dtypes: object(1)\n",
      "memory usage: 59.0+ MB\n"
     ]
    }
   ],
   "source": [
    "# Checking for null values\n",
    "accidents['ID'].info()"
   ]
  },
  {
   "cell_type": "markdown",
   "metadata": {},
   "source": [
    "### Reviewing 'Start_Time' Column\n",
    "The below code cells are looking at the data in the column 'Start_Time'. This column displays the date and start time of the accident. \n",
    "- There are a total of 7,728,394 rows in the column\n",
    "- The date populates in yyyy-mm-dd format and the time is in hh:mm:ss. \n",
    "    - Date format used in 0LegalizationDataPull.py is mm/dd/yyyy. We will need to reformat the display of date data in our cleaning script.\n",
    "    - Seconds not really pertinent for our use, we will drop this in the final formatting.\n",
    "- We will separate these data points in to individual columns in the final dataframe.\n",
    "- Total rows with non-null values 7,728,394 so we won't need to drop any rows.\n"
   ]
  },
  {
   "cell_type": "code",
   "execution_count": null,
   "metadata": {},
   "outputs": [
    {
     "data": {
      "text/plain": [
       "0          2016-02-08 05:46:00\n",
       "1          2016-02-08 06:07:59\n",
       "2          2016-02-08 06:49:27\n",
       "3          2016-02-08 07:23:34\n",
       "4          2016-02-08 07:39:07\n",
       "                  ...         \n",
       "7728389    2019-08-23 18:03:25\n",
       "7728390    2019-08-23 19:11:30\n",
       "7728391    2019-08-23 19:00:21\n",
       "7728392    2019-08-23 19:00:21\n",
       "7728393    2019-08-23 18:52:06\n",
       "Name: Start_Time, Length: 7728394, dtype: object"
      ]
     },
     "execution_count": 15,
     "metadata": {},
     "output_type": "execute_result"
    }
   ],
   "source": [
    "# Checking format of data\n",
    "accidents['Start_Time']"
   ]
  },
  {
   "cell_type": "code",
   "execution_count": null,
   "metadata": {},
   "outputs": [
    {
     "name": "stdout",
     "output_type": "stream",
     "text": [
      "<class 'pandas.core.series.Series'>\n",
      "RangeIndex: 7728394 entries, 0 to 7728393\n",
      "Series name: Start_Time\n",
      "Non-Null Count    Dtype \n",
      "--------------    ----- \n",
      "7728394 non-null  object\n",
      "dtypes: object(1)\n",
      "memory usage: 59.0+ MB\n"
     ]
    }
   ],
   "source": [
    "# Checking for null values\n",
    "accidents['Start_Time'].info()"
   ]
  },
  {
   "cell_type": "markdown",
   "metadata": {},
   "source": [
    "### Reviewing the 'Sunrise_Sunset' column\n",
    "The below code cells are looking at the data in the column 'Sunrise_Sunset'. This column displays whether the accident occurred during the day or night, determined by Sunrise and Sunset time. \n",
    "- There are a total of 7,728,394 rows in the column\n",
    "- The column name doesn't really indicate the stored data, we will rename this column in the final dataframe. The original data used multiple ways to determine day or night (i.e. Nautical, Astronomical, and Civil). We will simply use the data based off of the rise and set of the sun. \n",
    "- The date populates a single word of either Day or Night. \n",
    "- Total rows with non-null values 7,705,148, so we will have to drop 23,246 rows."
   ]
  },
  {
   "cell_type": "code",
   "execution_count": null,
   "metadata": {},
   "outputs": [
    {
     "data": {
      "text/plain": [
       "0          Night\n",
       "1          Night\n",
       "2          Night\n",
       "3          Night\n",
       "4            Day\n",
       "           ...  \n",
       "7728389      Day\n",
       "7728390      Day\n",
       "7728391      Day\n",
       "7728392      Day\n",
       "7728393      Day\n",
       "Name: Sunrise_Sunset, Length: 7728394, dtype: object"
      ]
     },
     "execution_count": 17,
     "metadata": {},
     "output_type": "execute_result"
    }
   ],
   "source": [
    "# Checking format of data\n",
    "accidents['Sunrise_Sunset']"
   ]
  },
  {
   "cell_type": "code",
   "execution_count": null,
   "metadata": {},
   "outputs": [
    {
     "name": "stdout",
     "output_type": "stream",
     "text": [
      "<class 'pandas.core.series.Series'>\n",
      "RangeIndex: 7728394 entries, 0 to 7728393\n",
      "Series name: Sunrise_Sunset\n",
      "Non-Null Count    Dtype \n",
      "--------------    ----- \n",
      "7705148 non-null  object\n",
      "dtypes: object(1)\n",
      "memory usage: 59.0+ MB\n"
     ]
    }
   ],
   "source": [
    "# Checking for null values\n",
    "accidents['Sunrise_Sunset'].info()"
   ]
  },
  {
   "cell_type": "markdown",
   "metadata": {},
   "source": [
    "### Reviewing the 'State' column\n",
    "The below code cells are looking at the data in the column 'State'. This column displays the state the accident occurred in. \n",
    "- There are a total of 7,728,394 rows in the column\n",
    "- The date populates an abbreviated entry of the name of the state.\n",
    "    - The data pulled with 0LegalizationDataPull.py is listed as full state names. We will have to convert those to abbreviations to match this dataset \n",
    "- Data was only tracked for the continental US\n",
    "    - When running the pandas join in 1Cleaning.py we will drop all rows with a designation of HI or AK in the State column from Legalization.csv.\n",
    "- Total rows with non-null values 7,728,394 so we won't need to drop any rows."
   ]
  },
  {
   "cell_type": "code",
   "execution_count": null,
   "metadata": {},
   "outputs": [
    {
     "data": {
      "text/plain": [
       "0          OH\n",
       "1          OH\n",
       "2          OH\n",
       "3          OH\n",
       "4          OH\n",
       "           ..\n",
       "7728389    CA\n",
       "7728390    CA\n",
       "7728391    CA\n",
       "7728392    CA\n",
       "7728393    CA\n",
       "Name: State, Length: 7728394, dtype: object"
      ]
     },
     "execution_count": 19,
     "metadata": {},
     "output_type": "execute_result"
    }
   ],
   "source": [
    "#Checking the format of the data\n",
    "accidents['State']"
   ]
  },
  {
   "cell_type": "code",
   "execution_count": null,
   "metadata": {},
   "outputs": [
    {
     "data": {
      "text/plain": [
       "State\n",
       "CA    1741433\n",
       "FL     880192\n",
       "TX     582837\n",
       "SC     382557\n",
       "NY     347960\n",
       "NC     338199\n",
       "VA     303301\n",
       "PA     296620\n",
       "MN     192084\n",
       "OR     179660\n",
       "AZ     170609\n",
       "GA     169234\n",
       "IL     168958\n",
       "TN     167388\n",
       "MI     162191\n",
       "LA     149701\n",
       "NJ     140719\n",
       "MD     140417\n",
       "OH     118115\n",
       "WA     108221\n",
       "AL     101044\n",
       "UT      97079\n",
       "CO      90885\n",
       "OK      83647\n",
       "MO      77323\n",
       "CT      71005\n",
       "IN      67224\n",
       "MA      61996\n",
       "WI      34688\n",
       "KY      32254\n",
       "NE      28870\n",
       "MT      28496\n",
       "IA      26307\n",
       "AR      22780\n",
       "NV      21665\n",
       "KS      20992\n",
       "DC      18630\n",
       "RI      16971\n",
       "MS      15181\n",
       "DE      14097\n",
       "WV      13793\n",
       "ID      11376\n",
       "NM      10325\n",
       "NH      10213\n",
       "WY       3757\n",
       "ND       3487\n",
       "ME       2698\n",
       "VT        926\n",
       "SD        289\n",
       "Name: count, dtype: int64"
      ]
     },
     "execution_count": 24,
     "metadata": {},
     "output_type": "execute_result"
    }
   ],
   "source": [
    "# Checking for the number of each value present in the state column\n",
    "accidents['State'].value_counts()"
   ]
  },
  {
   "cell_type": "code",
   "execution_count": null,
   "metadata": {},
   "outputs": [
    {
     "data": {
      "text/plain": [
       "np.int64(49)"
      ]
     },
     "execution_count": 25,
     "metadata": {},
     "output_type": "execute_result"
    }
   ],
   "source": [
    "# Checking the count of values in State column\n",
    "accidents['State'].value_counts().count()"
   ]
  },
  {
   "cell_type": "code",
   "execution_count": null,
   "metadata": {},
   "outputs": [
    {
     "name": "stdout",
     "output_type": "stream",
     "text": [
      "<class 'pandas.core.series.Series'>\n",
      "RangeIndex: 7728394 entries, 0 to 7728393\n",
      "Series name: State\n",
      "Non-Null Count    Dtype \n",
      "--------------    ----- \n",
      "7728394 non-null  object\n",
      "dtypes: object(1)\n",
      "memory usage: 59.0+ MB\n"
     ]
    }
   ],
   "source": [
    "# Checking for null values\n",
    "accidents['State'].info()"
   ]
  },
  {
   "cell_type": "markdown",
   "metadata": {},
   "source": [
    "### Final Data Discovery Table\n",
    "Below is the final data discovery table pulled from the discovery process.\n",
    "\n",
    "The following table lists needed datapoints and potential columns that data can be pulled from.\n",
    "|Needed Datapoint | Raw column to use | Notes | Raw Datatype |\n",
    "|---|---|---|---|\n",
    "| Accident ID | ID | Numeric identifier for accident | str |\n",
    "|Date| Start_Time | Start_Time has date and time of accident (yyyy-mm-dd hh:mm:ss) | str |\n",
    "|Time| Start_TIme | Start_Time has date and time of accident | str |\n",
    "|Day/Night| Sunrise_Sunset | Lists whether it was 'Day' or 'Night' based off of sunrise/sunset | str |\n",
    "|State| State | This is the name of a state | str |"
   ]
  }
 ],
 "metadata": {
  "kernelspec": {
   "display_name": "Python 3",
   "language": "python",
   "name": "python3"
  },
  "language_info": {
   "codemirror_mode": {
    "name": "ipython",
    "version": 3
   },
   "file_extension": ".py",
   "mimetype": "text/x-python",
   "name": "python",
   "nbconvert_exporter": "python",
   "pygments_lexer": "ipython3",
   "version": "3.11.9"
  }
 },
 "nbformat": 4,
 "nbformat_minor": 2
}
