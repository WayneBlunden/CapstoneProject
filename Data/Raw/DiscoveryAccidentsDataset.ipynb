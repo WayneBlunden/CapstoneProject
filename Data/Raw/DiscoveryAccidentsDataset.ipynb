{
 "cells": [
  {
   "cell_type": "markdown",
   "metadata": {},
   "source": [
    "# Data Discovery\n",
    "Reviewing columns to determine what data is valuable/pertinent to this project.\n",
    "- descriptions of the column names are pulled from Comments section pertaining to the dataset where not directly defined in the accompanying paper.\n",
    "\n",
    "All code had to be removed from the discovery document. Once US_Accidents_March23.csv was loaded into a pandas dataframe the file Discovery.ipynb became too large to be uploaded to github. The text of the document was kept intact below. A link to the dataset on kaggle.com can be found in the primary README.md document."
   ]
  },
  {
   "cell_type": "markdown",
   "metadata": {},
   "source": [
    "## Pulling just the column names from the dataframe to see what data is available."
   ]
  },
  {
   "cell_type": "markdown",
   "metadata": {},
   "source": [
    "Pandas dataframe was too large after csv file US_Accident_March23 was loaded into variables. The code had to be removed but below is an exerpt of the column headings found. \n",
    "\n",
    "Index(['ID', 'Source', 'Severity', 'Start_Time', 'End_Time', 'Start_Lat',\n",
    "       'Start_Lng', 'End_Lat', 'End_Lng', 'Distance(mi)', 'Description',\n",
    "       'Street', 'City', 'County', 'State', 'Zipcode', 'Country', 'Timezone',\n",
    "       'Airport_Code', 'Weather_Timestamp', 'Temperature(F)', 'Wind_Chill(F)',\n",
    "       'Humidity(%)', 'Pressure(in)', 'Visibility(mi)', 'Wind_Direction',\n",
    "       'Wind_Speed(mph)', 'Precipitation(in)', 'Weather_Condition', 'Amenity',\n",
    "       'Bump', 'Crossing', 'Give_Way', 'Junction', 'No_Exit', 'Railway',\n",
    "       'Roundabout', 'Station', 'Stop', 'Traffic_Calming', 'Traffic_Signal',\n",
    "       'Turning_Loop', 'Sunrise_Sunset', 'Civil_Twilight', 'Nautical_Twilight',\n",
    "       'Astronomical_Twilight'],\n",
    "      dtype='object')"
   ]
  },
  {
   "cell_type": "markdown",
   "metadata": {},
   "source": [
    "## Source column\n",
    "per the accompanying paper for the dataset this defines where the data for the incident was obtained. \n",
    "- Source 1 is data pulled from MapQuest Traffic. Source 2 is data pulled from Microsoft Bing Map Traffic. Source 3 is data that was reported by both Source 1 and Source 2."
   ]
  },
  {
   "cell_type": "markdown",
   "metadata": {},
   "source": [
    "## Severity Column\n",
    "This is used to determine the severity of the accident, it is broken down into a number score from 1 to 4. 1 being the least severe and 4 being the most. \n",
    "- Unable to specifically define each category. Per the comments for the dataset this data is provided from the Source directly and isn't defined. It is most likely determined by the amount of time the incident lasted and how far away the impact of the accident was felt from the incident location."
   ]
  },
  {
   "cell_type": "markdown",
   "metadata": {},
   "source": [
    "## Start_Time\n",
    "This column states the time (best guess) the accident took place"
   ]
  },
  {
   "cell_type": "markdown",
   "metadata": {},
   "source": [
    "## End_Time\n",
    "This column states when the affects of the accident were finished and traffic flow was returned to normal (best guess).\n",
    "- There is some contention on this data. A commenter found the number of incidents said to have taken 6 hours to clear was suspect."
   ]
  },
  {
   "cell_type": "markdown",
   "metadata": {},
   "source": [
    "## Start_Lat, Start_Lng, End_Lat, End_Lng, Distance\n",
    "These headings determine the latitude and longitude points of the accident location and the assumed end of the affects of the accident. Distance shows the length of affect from the location of the accident. "
   ]
  },
  {
   "cell_type": "markdown",
   "metadata": {},
   "source": [
    "## Description\n",
    "This heading contains a description of the accident "
   ]
  },
  {
   "cell_type": "markdown",
   "metadata": {},
   "source": [
    "## Location Data: The below columns are all listed to provide location data of the accident.\n",
    "Street, City, County, State, Zipcode, Country, Timezone, and Airport_Code (location of airport based weather collection source)"
   ]
  },
  {
   "cell_type": "markdown",
   "metadata": {},
   "source": [
    "## Weather Data: The below columns are all listed to provide specific weather based data at the time of the accident.\n",
    "Temperature(F), Wind_Chill(F), Humidity(%), Pressure(in), Visibility(mi), Wind_Direction, Wind_Speed(mph), Precipitation(in), and Weather_Condition"
   ]
  },
  {
   "cell_type": "markdown",
   "metadata": {},
   "source": [
    "## Location Data: The below columns are all listed to provide specific location based data at the point of the accident.\n",
    "Amenity, Bump, Crossing, Give_Way, Junction, No_Exit, Railway, Roundabout, Station, Stop, Traffic_Calming, Traffic_Signal, Turning_Loop"
   ]
  },
  {
   "cell_type": "markdown",
   "metadata": {},
   "source": [
    "## Day/Night Data: The below columns are used to determine if it was day or night based off of various day/night determinations.\n",
    "Sunrise_Sunset, Civil_Twilight, Nautical_Twilight, and Astronomical_Twilight"
   ]
  },
  {
   "cell_type": "markdown",
   "metadata": {},
   "source": [
    "# Findings based off of Columns\n",
    "A large amount of the columns in this dataset are more specific than what I need. I am most concerned with identifying the physical location of an accident and whether one took place. Start_Time can be used to identify the date and time of the accidents. Columns that could be interesting to include are Severity and Description. Although, severity is a defined very vaguely in this dataset so it may not be helpful and description may be too subjective for hard comparisons.\n",
    "\n",
    "### Pertinent data points from US_Accidents_March23.csv\n",
    "| Term | Description | Notes |\n",
    "| ---- | ----------- | --- |\n",
    "| ID   | Accident Identifier ||\n",
    "| Severity | Severity of the incident | This datapoint was provided by the original source which didn't clearly define its meaning. Dataset provider can only provide an assumed definintion |\n",
    "| Start_Time | Date and Time of the accident | Should break this in to two seperate columns for data analysis on individual data points |\n",
    "| Description | Description of the accident | May be too subjective to be useful |\n",
    "| Street | Street accident occurred on | Potential comparison column |\n",
    "| City | City accident occurred in | Potential comparison column |\n",
    "| County | County accident occurred in | Potential comparison column |\n",
    "| State | State accident occurred in | Potential comparison column |\n",
    "| Zipcode | Zipcode accident occurred in | Potential comparison column |\n",
    "\n",
    "After determining the usable columns in this dataset, I will need to find something to compare this to. Current ideas: \n",
    "- Drug and Alcohol statistics \n",
    "- Have we seen an increase in accidents since marijuana legalization at the recreational level\n",
    "- Does the cost of living for an area impact accidents\n",
    "\n"
   ]
  }
 ],
 "metadata": {
  "kernelspec": {
   "display_name": "Python 3",
   "language": "python",
   "name": "python3"
  },
  "language_info": {
   "codemirror_mode": {
    "name": "ipython",
    "version": 3
   },
   "file_extension": ".py",
   "mimetype": "text/x-python",
   "name": "python",
   "nbconvert_exporter": "python",
   "pygments_lexer": "ipython3",
   "version": "3.11.9"
  }
 },
 "nbformat": 4,
 "nbformat_minor": 2
}
